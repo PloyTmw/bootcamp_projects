{
 "cells":[
  {
   "cell_type":"markdown",
   "source":[
    "# Nycflights2013 Analysis"
   ],
   "attachments":{
    
   },
   "metadata":{
    "datalore":{
     "node_id":"vMNUty3lwL43PGVaDwnfvI",
     "type":"MD",
     "hide_input_from_viewers":false,
     "hide_output_from_viewers":false
    }
   }
  },
  {
   "cell_type":"code",
   "source":[
    "install.packages(\"nycflights13\")"
   ],
   "execution_count":1,
   "outputs":[
    {
     "name":"stderr",
     "text":[
      "Updating HTML index of packages in '.Library'\n",
      "\n",
      "Making 'packages.html' ...\n",
      " done\n",
      "\n"
     ],
     "output_type":"stream"
    }
   ],
   "metadata":{
    "datalore":{
     "node_id":"s1sv88p25F3UEJ5Wsw2QtA",
     "type":"CODE",
     "hide_input_from_viewers":false,
     "hide_output_from_viewers":false
    }
   }
  },
  {
   "cell_type":"code",
   "source":[
    "library(tidyverse)\n",
    "library(glue)\n",
    "library(nycflights13)\n",
    "library(lubridate)\n",
    "library(dplyr)\n",
    "\n"
   ],
   "execution_count":8,
   "outputs":[
    
   ],
   "metadata":{
    "datalore":{
     "node_id":"gjMgs1yr06JXw3IrQBrD32",
     "type":"CODE",
     "hide_input_from_viewers":false,
     "hide_output_from_viewers":false
    }
   }
  },
  {
   "cell_type":"markdown",
   "source":[
    "# **Question** 1 : Find Top 5 probably high fuel expense. \n",
    " If **distance** is one factor in calculating the fuel expenses"
   ],
   "attachments":{
    
   },
   "metadata":{
    "datalore":{
     "node_id":"k6H7TpQOPVsGnh5mfRwKZ3",
     "type":"MD",
     "hide_input_from_viewers":false,
     "hide_output_from_viewers":false
    }
   }
  },
  {
   "cell_type":"code",
   "source":[
    "##Prepare Data\n",
    "# Find cancelled flights \n",
    "not_cancelled <- filter(flights,!is.na(arr_time),!is.na(air_time))\n",
    "\n",
    "# Find amount of miles from distance column \n",
    "df1 <- not_cancelled %>%\n",
    "  group_by(carrier) %>%\n",
    "  summarise(miles = sum(distance),\n",
    "            count = n()) %>%\n",
    "  mutate(flight_rank=round(count\/sum(count)*100,digits = 2)) %>%\n",
    "  mutate(mile_rank=round(miles\/sum(miles)*100,digit = 2)) %>%\n",
    "  mutate(miles = round(miles\/1000000),digit = 2) %>%\n",
    "  arrange(desc(miles))\n",
    "\n",
    "# Find top 5 probably high fuel expense. \n",
    "# If distance is one factor in calculating the fuel expenses\n",
    "left_join(df1,airlines, by = \"carrier\") %>%\n",
    "  select(carrier,name,miles) %>%\n",
    "  rename(\"miles(million)\" = \"miles\") %>%  \n",
    "  head(5)"
   ],
   "execution_count":3,
   "outputs":[
    {
     "data":{
      "text\/html":[
       "<table class=\"dataframe\">\n",
       "<caption>A tibble: 5 × 3<\/caption>\n",
       "<thead>\n",
       "\t<tr><th scope=col>carrier<\/th><th scope=col>name<\/th><th scope=col>miles(million)<\/th><\/tr>\n",
       "\t<tr><th scope=col>&lt;chr&gt;<\/th><th scope=col>&lt;chr&gt;<\/th><th scope=col>&lt;dbl&gt;<\/th><\/tr>\n",
       "<\/thead>\n",
       "<tbody>\n",
       "\t<tr><td>UA<\/td><td>United Air Lines Inc.   <\/td><td>88<\/td><\/tr>\n",
       "\t<tr><td>DL<\/td><td>Delta Air Lines Inc.    <\/td><td>59<\/td><\/tr>\n",
       "\t<tr><td>B6<\/td><td>JetBlue Airways         <\/td><td>58<\/td><\/tr>\n",
       "\t<tr><td>AA<\/td><td>American Airlines Inc.  <\/td><td>43<\/td><\/tr>\n",
       "\t<tr><td>EV<\/td><td>ExpressJet Airlines Inc.<\/td><td>29<\/td><\/tr>\n",
       "<\/tbody>\n",
       "<\/table>\n"
      ]
     },
     "metadata":{
      
     },
     "output_type":"display_data"
    }
   ],
   "metadata":{
    "datalore":{
     "node_id":"BIVcyl5Q4nnVNfutwpi7kP",
     "type":"CODE",
     "hide_input_from_viewers":false,
     "hide_output_from_viewers":false
    }
   }
  },
  {
   "cell_type":"markdown",
   "source":[
    "**Description :** If distance is one factor in calculating the fuel expenses. That means total distance of each carrier. It can be used reference fuel expenses."
   ],
   "attachments":{
    
   },
   "metadata":{
    "datalore":{
     "node_id":"8SRkrcrlmwpc3xT6JNaRFJ",
     "type":"MD",
     "hide_input_from_viewers":false,
     "hide_output_from_viewers":false
    }
   }
  },
  {
   "cell_type":"markdown",
   "source":[
    "# **Question** 2 : Find the percentage of canceled flights for each of the top 5 domestic carriers"
   ],
   "attachments":{
    
   },
   "metadata":{
    "datalore":{
     "node_id":"ThqDjqpmvIPZkT6D2SJC6Q",
     "type":"MD",
     "hide_input_from_viewers":false,
     "hide_output_from_viewers":false
    }
   }
  },
  {
   "cell_type":"code",
   "source":[
    "## Prepare Data\n",
    "# mutate column NorC separate data Not cancelled flight and Cancelled flight\n",
    "f1 <- flights %>%\n",
    "  mutate(NorC = factor(if_else(!is.na(arr_delay) & !is.na(air_time),\"notcancelled\",\"cancelled\"),\n",
    "                       levels = c(\"cancelled\",\"notcancelled\"),\n",
    "                       labels = c(\"cancelled\",\"notcancelled\"),))\n",
    "# Find amount of cancelled flights from NorC column\n",
    "p1 <- f1 %>%\n",
    "  filter(NorC == \"cancelled\") %>%\n",
    "  group_by(carrier,NorC) %>%\n",
    "  count(NorC, name = \"count_cancelled\") %>%  \n",
    "  select(carrier,NorC,count_cancelled) %>%\n",
    "  arrange(NorC,desc(count_cancelled)) %>%\n",
    "  ungroup()\n",
    "# Find Top 5 Domestic Carriers (by flights count)\n",
    "p2 <- f1 %>%\n",
    "  filter(NorC == \"notcancelled\") %>%\n",
    "  group_by(carrier,NorC) %>%\n",
    "  count(NorC, name = \"count_notcancelled\") %>%\n",
    "  select(carrier,NorC,count_notcancelled) %>%\n",
    "  arrange(NorC,desc(count_notcancelled)) %>%\n",
    "  head(5) %>%\n",
    "  ungroup()\n",
    "\n",
    "# Find the percentage of canceled flights for each of the top 5 domestic carriers.\n",
    "j1 <- left_join(p2,p1, by = \"carrier\")\n",
    "left_join(j1,airlines, by = \"carrier\") %>%\n",
    "  mutate(percent_cancelled = round((count_cancelled\/count_notcancelled)*100,digit = 2)) %>%\n",
    "  mutate(percent_cancelled = paste0(percent_cancelled,\" %\")) %>%\n",
    "  select(carrier,name,count_notcancelled,count_cancelled,percent_cancelled)"
   ],
   "execution_count":4,
   "outputs":[
    {
     "data":{
      "text\/html":[
       "<table class=\"dataframe\">\n",
       "<caption>A tibble: 5 × 5<\/caption>\n",
       "<thead>\n",
       "\t<tr><th scope=col>carrier<\/th><th scope=col>name<\/th><th scope=col>count_notcancelled<\/th><th scope=col>count_cancelled<\/th><th scope=col>percent_cancelled<\/th><\/tr>\n",
       "\t<tr><th scope=col>&lt;chr&gt;<\/th><th scope=col>&lt;chr&gt;<\/th><th scope=col>&lt;int&gt;<\/th><th scope=col>&lt;int&gt;<\/th><th scope=col>&lt;chr&gt;<\/th><\/tr>\n",
       "<\/thead>\n",
       "<tbody>\n",
       "\t<tr><td>UA<\/td><td>United Air Lines Inc.   <\/td><td>57782<\/td><td> 883<\/td><td>1.53 %<\/td><\/tr>\n",
       "\t<tr><td>B6<\/td><td>JetBlue Airways         <\/td><td>54049<\/td><td> 586<\/td><td>1.08 %<\/td><\/tr>\n",
       "\t<tr><td>EV<\/td><td>ExpressJet Airlines Inc.<\/td><td>51108<\/td><td>3065<\/td><td>6 %   <\/td><\/tr>\n",
       "\t<tr><td>DL<\/td><td>Delta Air Lines Inc.    <\/td><td>47658<\/td><td> 452<\/td><td>0.95 %<\/td><\/tr>\n",
       "\t<tr><td>AA<\/td><td>American Airlines Inc.  <\/td><td>31947<\/td><td> 782<\/td><td>2.45 %<\/td><\/tr>\n",
       "<\/tbody>\n",
       "<\/table>\n"
      ]
     },
     "metadata":{
      
     },
     "output_type":"display_data"
    }
   ],
   "metadata":{
    "datalore":{
     "node_id":"ao4Qmf2kzWZFHNihzLi0bz",
     "type":"CODE",
     "hide_input_from_viewers":false,
     "hide_output_from_viewers":false
    }
   }
  },
  {
   "cell_type":"markdown",
   "source":[
    "**Description :** United Airlines in 2013 amount of flights is 57,782 flight and percentage of cancelled is 1.53 %."
   ],
   "attachments":{
    
   },
   "metadata":{
    "datalore":{
     "node_id":"jiJDHZELVJoxAHGOk7LvXn",
     "type":"MD",
     "hide_input_from_viewers":false,
     "hide_output_from_viewers":false
    }
   }
  },
  {
   "cell_type":"markdown",
   "source":[
    "# **Question** 3 :  Find Top 5 aircraft manufacturers"
   ],
   "attachments":{
    
   },
   "metadata":{
    "datalore":{
     "node_id":"G70NzBKwtfRkcZSi7zshhs",
     "type":"MD",
     "hide_input_from_viewers":false,
     "hide_output_from_viewers":false
    }
   }
  },
  {
   "cell_type":"code",
   "source":[
    "##Prepare Data\n",
    "# Find Not cancelled flights and clear missing data of tail number column\n",
    "e1 <- flights %>% \n",
    "        filter(!is.na(arr_delay),!is.na(air_time),!is.na(tailnum)) %>%\n",
    "        select(carrier,flight,tailnum,origin,dest)\n",
    "\n",
    "# Find top 5 aircraft manufacturers\n",
    "e2 <- left_join(e1,planes, by = \"tailnum\")\n",
    "e2 %>% \n",
    "  filter(!is.na(manufacturer)) %>%\n",
    "  group_by(manufacturer) %>% \n",
    "  count(manufacturer, sort = TRUE) %>%\n",
    "  head(5)"
   ],
   "execution_count":5,
   "outputs":[
    {
     "data":{
      "text\/html":[
       "<table class=\"dataframe\">\n",
       "<caption>A grouped_df: 5 × 2<\/caption>\n",
       "<thead>\n",
       "\t<tr><th scope=col>manufacturer<\/th><th scope=col>n<\/th><\/tr>\n",
       "\t<tr><th scope=col>&lt;chr&gt;<\/th><th scope=col>&lt;int&gt;<\/th><\/tr>\n",
       "<\/thead>\n",
       "<tbody>\n",
       "\t<tr><td>BOEING          <\/td><td>82283<\/td><\/tr>\n",
       "\t<tr><td>EMBRAER         <\/td><td>63530<\/td><\/tr>\n",
       "\t<tr><td>AIRBUS          <\/td><td>46890<\/td><\/tr>\n",
       "\t<tr><td>AIRBUS INDUSTRIE<\/td><td>40642<\/td><\/tr>\n",
       "\t<tr><td>BOMBARDIER INC  <\/td><td>27430<\/td><\/tr>\n",
       "<\/tbody>\n",
       "<\/table>\n"
      ]
     },
     "metadata":{
      
     },
     "output_type":"display_data"
    }
   ],
   "metadata":{
    "datalore":{
     "node_id":"ts6LJHWfXBzfqIVSJk9Dil",
     "type":"CODE",
     "hide_input_from_viewers":false,
     "hide_output_from_viewers":false
    }
   }
  },
  {
   "cell_type":"markdown",
   "source":[
    "# **Question** 4 :  Find average flights per day of each 3 airport"
   ],
   "attachments":{
    
   },
   "metadata":{
    "datalore":{
     "node_id":"dsCJiWaEFGI76Qcq2zQkLE",
     "type":"MD",
     "hide_input_from_viewers":false,
     "hide_output_from_viewers":false
    }
   }
  },
  {
   "cell_type":"code",
   "source":[
    "##Prepare Data\n",
    "# Not cancelled flights\n",
    "df_nc <- filter(flights,!is.na(arr_time),!is.na(air_time))\n",
    "\n",
    "# mutate column date from column time_hour\n",
    "df_nc <- df_nc %>%\n",
    "  mutate(date = date(time_hour))\n",
    "\n",
    "# count flights per day\n",
    "df1 <- df_nc %>%\n",
    "  group_by(date, origin) %>%\n",
    "  count(origin) %>%\n",
    "  arrange(origin)\n",
    "\n",
    "# Find average flights per day of each 3 airport\n",
    "df2 <- df1 %>%\n",
    "  group_by(origin) %>%\n",
    "  summarise(avg_per_day = round(mean(n),digits = 0)) %>%\n",
    "  ungroup()\n",
    "\n",
    "left_join(df2,airports, by = c(\"origin\" = \"faa\")) %>%\n",
    "  select(origin,name,avg_per_day)"
   ],
   "execution_count":6,
   "outputs":[
    {
     "data":{
      "text\/html":[
       "<table class=\"dataframe\">\n",
       "<caption>A tibble: 3 × 3<\/caption>\n",
       "<thead>\n",
       "\t<tr><th scope=col>origin<\/th><th scope=col>name<\/th><th scope=col>avg_per_day<\/th><\/tr>\n",
       "\t<tr><th scope=col>&lt;chr&gt;<\/th><th scope=col>&lt;chr&gt;<\/th><th scope=col>&lt;dbl&gt;<\/th><\/tr>\n",
       "<\/thead>\n",
       "<tbody>\n",
       "\t<tr><td>EWR<\/td><td>Newark Liberty Intl<\/td><td>320<\/td><\/tr>\n",
       "\t<tr><td>JFK<\/td><td>John F Kennedy Intl<\/td><td>298<\/td><\/tr>\n",
       "\t<tr><td>LGA<\/td><td>La Guardia         <\/td><td>276<\/td><\/tr>\n",
       "<\/tbody>\n",
       "<\/table>\n"
      ]
     },
     "metadata":{
      
     },
     "output_type":"display_data"
    }
   ],
   "metadata":{
    "datalore":{
     "node_id":"759L9GU2FwJ0lrmWWklLU9",
     "type":"CODE",
     "hide_input_from_viewers":false,
     "hide_output_from_viewers":false
    }
   }
  },
  {
   "cell_type":"markdown",
   "source":[
    "# **Question** 5 :  Find percentage of departure delays of EWR - Newark Liberty International Airport"
   ],
   "attachments":{
    
   },
   "metadata":{
    "datalore":{
     "node_id":"yGkFr6amLHOTlS8nZvL84O",
     "type":"MD",
     "hide_input_from_viewers":false,
     "hide_output_from_viewers":false
    }
   }
  },
  {
   "cell_type":"code",
   "source":[
    "##Prepare Data\n",
    "# Not cancelled flights\n",
    "df_nc <- filter(flights,!is.na(arr_time),!is.na(air_time))\n",
    "\n",
    "# split departure delays by hours\n",
    "dt2 <- df_nc %>%\n",
    "  mutate( hrs_delay = \n",
    "            case_when(\n",
    "              dep_delay < 120 ~ \"lower 2 hrs\", ## <2\n",
    "              dep_delay < 180 ~ \"2-3 hrs\", ## <3\n",
    "              dep_delay < 300 ~ \"3-5 hrs\", ## <5\n",
    "              dep_delay < 360 ~ \"5-6 hrs\", ## <6\n",
    "              dep_delay >= 360 ~ \"more than 6 hrs\"\n",
    "            ))\n",
    "\n",
    "# Find percentage of departure delays of EWR - Newark Liberty International Airport\n",
    "dt2 %>%\n",
    "  group_by(hrs_delay,origin) %>%\n",
    "  count(origin, name = \"dep_delay2\") %>%\n",
    "  group_by(origin) %>%\n",
    "  mutate(percentage = dep_delay2\/sum(dep_delay2)*100) %>%\n",
    "  mutate(percentage = round(percentage, digits = 2)) %>%\n",
    "  mutate(percentage = paste0(percentage,\" %\")) %>%\n",
    "  filter(origin == \"EWR\") %>%\n",
    "  select(origin,hrs_delay,percentage)"
   ],
   "execution_count":7,
   "outputs":[
    {
     "data":{
      "text\/html":[
       "<table class=\"dataframe\">\n",
       "<caption>A grouped_df: 5 × 3<\/caption>\n",
       "<thead>\n",
       "\t<tr><th scope=col>origin<\/th><th scope=col>hrs_delay<\/th><th scope=col>percentage<\/th><\/tr>\n",
       "\t<tr><th scope=col>&lt;chr&gt;<\/th><th scope=col>&lt;chr&gt;<\/th><th scope=col>&lt;chr&gt;<\/th><\/tr>\n",
       "<\/thead>\n",
       "<tbody>\n",
       "\t<tr><td>EWR<\/td><td>2-3 hrs        <\/td><td>2.03 % <\/td><\/tr>\n",
       "\t<tr><td>EWR<\/td><td>3-5 hrs        <\/td><td>1.12 % <\/td><\/tr>\n",
       "\t<tr><td>EWR<\/td><td>5-6 hrs        <\/td><td>0.11 % <\/td><\/tr>\n",
       "\t<tr><td>EWR<\/td><td>lower 2 hrs    <\/td><td>96.67 %<\/td><\/tr>\n",
       "\t<tr><td>EWR<\/td><td>more than 6 hrs<\/td><td>0.07 % <\/td><\/tr>\n",
       "<\/tbody>\n",
       "<\/table>\n"
      ]
     },
     "metadata":{
      
     },
     "output_type":"display_data"
    }
   ],
   "metadata":{
    "datalore":{
     "node_id":"u5sDKUqczEan8qw1XXq7Ku",
     "type":"CODE",
     "hide_input_from_viewers":false,
     "hide_output_from_viewers":false
    }
   }
  },
  {
   "cell_type":"markdown",
   "source":[
    "**Description :** In Thailand, If airline is delayed we are able to claim compensation. The delay level will be divided into hours, starting from 2 hours or more."
   ],
   "attachments":{
    
   },
   "metadata":{
    "datalore":{
     "node_id":"EW0AgKUqz1X5RiLhmtxCKX",
     "type":"MD",
     "hide_input_from_viewers":false,
     "hide_output_from_viewers":false
    }
   }
  }
 ],
 "metadata":{
  "kernelspec":{
   "display_name":"R",
   "language":"r",
   "name":"ir"
  },
  "datalore":{
   "version":1,
   "computation_mode":"JUPYTER",
   "package_manager":"conda",
   "base_environment":"minimal",
   "packages":[
    
   ]
  }
 },
 "nbformat":4,
 "nbformat_minor":4
}